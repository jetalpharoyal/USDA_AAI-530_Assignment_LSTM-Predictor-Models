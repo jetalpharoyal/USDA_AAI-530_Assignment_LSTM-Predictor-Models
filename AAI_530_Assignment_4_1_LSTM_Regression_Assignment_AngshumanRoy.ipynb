{
  "cells": [
    {
      "cell_type": "markdown",
      "id": "699648d0",
      "metadata": {
        "id": "699648d0"
      },
      "source": [
        "# Long Short Term Memory Networks for IoT Prediction\n",
        "\n",
        "RNNs and LSTM models are very popular neural network architectures when working with sequential data, since they both carry some \"memory\" of previous inputs when predicting the next output. In this assignment we will continue to work with the Household Electricity Consumption dataset and use an LSTM model to predict the Global Active Power (GAP) from a sequence of previous GAP readings. You will build one model following the directions in this notebook closely, then you will be asked to make changes to that original model and analyze the effects that they had on the model performance. You will also be asked to compare the performance of your LSTM model to the linear regression predictor that you built in last week's assignment.\n",
        "\n",
        "## General Assignment Instructions\n",
        "\n",
        "These instructions are included in every assignment, to remind you of the coding standards for the class. Feel free to delete this cell after reading it.\n",
        "\n",
        "One sign of mature code is conforming to a style guide. We recommend the [Google Python Style Guide](https://google.github.io/styleguide/pyguide.html). If you use a different style guide, please include a cell with a link.\n",
        "\n",
        "Your code should be relatively easy-to-read, sensibly commented, and clean. Writing code is a messy process, so please be sure to edit your final submission. Remove any cells that are not needed or parts of cells that contain unnecessary code. Remove inessential `import` statements and make sure that all such statements are moved into the designated cell.\n",
        "\n",
        "When you save your notebook as a pdf, make sure that all cell output is visible (even error messages) as this will aid your instructor in grading your work.\n",
        "\n",
        "Make use of non-code cells for written commentary. These cells should be grammatical and clearly written. In some of these cells you will have questions to answer. The questions will be marked by a \"Q:\" and will have a corresponding \"A:\" spot for you. *Make sure to answer every question marked with a `Q:` for full credit.*"
      ]
    },
    {
      "cell_type": "code",
      "execution_count": null,
      "id": "96422f5e",
      "metadata": {
        "id": "96422f5e"
      },
      "outputs": [],
      "source": [
        "import keras\n",
        "import pandas as pd\n",
        "import numpy as np\n",
        "import matplotlib.pyplot as plt\n",
        "import os\n",
        "\n",
        "# Setting seed for reproducibility\n",
        "np.random.seed(1234)\n",
        "PYTHONHASHSEED = 0\n",
        "\n",
        "from sklearn import preprocessing\n",
        "from sklearn.metrics import confusion_matrix, recall_score, precision_score\n",
        "from sklearn.model_selection import train_test_split\n",
        "from keras.models import Sequential,load_model\n",
        "from keras.layers import Dense, Dropout, LSTM, Activation\n",
        "from keras.utils import pad_sequences"
      ]
    },
    {
      "cell_type": "markdown",
      "id": "93d897e4",
      "metadata": {
        "id": "93d897e4"
      },
      "source": [
        "## Load and prepare your data\n",
        "\n",
        "We'll once again be using the cleaned household electricity consumption data from the previous two assignments. I recommend saving your dataset by running df.to_csv(\"filename\") at the end of assignment 2 so that you don't have to re-do your cleaning steps. If you are not confident in your own cleaning steps, you may ask your instructor for a cleaned version of the data. You will not be graded on the cleaning steps in this assignment, but some functions may not work if you use the raw data.\n",
        "\n",
        "Unlike when using Linear Regression to make our predictions for Global Active Power (GAP), LSTM requires that we have a pre-trained model when our predictive software is shipped (the ability to iterate on the model after it's put into production is another question for another day). Thus, we will train the model on a segment of our data and then measure its performance on simulated streaming data another segment of the data. Our dataset is very large, so for speed's sake, we will limit ourselves to 1% of the entire dataset.\n",
        "\n",
        "**TODO: Import your data, select the a random 1% of the dataset, and then split it 80/20 into training and validation sets (the test split will come from the training data as part of the tensorflow LSTM model call). HINT: Think carefully about how you do your train/validation split--does it make sense to randomize the data?**"
      ]
    },
    {
      "cell_type": "code",
      "execution_count": null,
      "id": "4db3cf86",
      "metadata": {
        "id": "4db3cf86",
        "outputId": "f684ce33-99ee-4301-db34-48f38b225f57"
      },
      "outputs": [
        {
          "name": "stdout",
          "output_type": "stream",
          "text": [
            "<class 'pandas.core.frame.DataFrame'>\n",
            "RangeIndex: 2049280 entries, 0 to 2049279\n",
            "Data columns (total 15 columns):\n",
            " #   Column                 Dtype  \n",
            "---  ------                 -----  \n",
            " 0   Unnamed: 0             int64  \n",
            " 1   Date                   object \n",
            " 2   Time                   object \n",
            " 3   Global_active_power    float64\n",
            " 4   Global_reactive_power  float64\n",
            " 5   Voltage                float64\n",
            " 6   Global_intensity       float64\n",
            " 7   Sub_metering_1         float64\n",
            " 8   Sub_metering_2         float64\n",
            " 9   Sub_metering_3         float64\n",
            " 10  Datetime               object \n",
            " 11  gap_monthly            float64\n",
            " 12  grp_monthly            float64\n",
            " 13  v_monthly              float64\n",
            " 14  gi_monthly             float64\n",
            "dtypes: float64(11), int64(1), object(3)\n",
            "memory usage: 234.5+ MB\n"
          ]
        },
        {
          "data": {
            "text/plain": [
              "(None,\n",
              "    Unnamed: 0        Date      Time  Global_active_power  \\\n",
              " 0           0  2006-12-16  17:24:00                4.216   \n",
              " 1           1  2006-12-16  17:25:00                5.360   \n",
              " 2           2  2006-12-16  17:26:00                5.374   \n",
              " 3           3  2006-12-16  17:27:00                5.388   \n",
              " 4           4  2006-12-16  17:28:00                3.666   \n",
              " \n",
              "    Global_reactive_power  Voltage  Global_intensity  Sub_metering_1  \\\n",
              " 0                  0.418   234.84              18.4             0.0   \n",
              " 1                  0.436   233.63              23.0             0.0   \n",
              " 2                  0.498   233.29              23.0             0.0   \n",
              " 3                  0.502   233.74              23.0             0.0   \n",
              " 4                  0.528   235.68              15.8             0.0   \n",
              " \n",
              "    Sub_metering_2  Sub_metering_3             Datetime  gap_monthly  \\\n",
              " 0             1.0            17.0  2006-12-16 17:24:00          NaN   \n",
              " 1             1.0            16.0  2006-12-16 17:25:00          NaN   \n",
              " 2             2.0            17.0  2006-12-16 17:26:00          NaN   \n",
              " 3             1.0            17.0  2006-12-16 17:27:00          NaN   \n",
              " 4             1.0            17.0  2006-12-16 17:28:00          NaN   \n",
              " \n",
              "    grp_monthly  v_monthly  gi_monthly  \n",
              " 0          NaN        NaN         NaN  \n",
              " 1          NaN        NaN         NaN  \n",
              " 2          NaN        NaN         NaN  \n",
              " 3          NaN        NaN         NaN  \n",
              " 4          NaN        NaN         NaN  )"
            ]
          },
          "execution_count": 2,
          "metadata": {},
          "output_type": "execute_result"
        }
      ],
      "source": [
        "#Load your data into a pandas dataframe here\n",
        "data = pd.read_csv(\"household_power_clean.csv\")\n",
        "\n",
        "# Display basic information and the first few rows of the dataset\n",
        "data_info = data.info()\n",
        "data_head = data.head()\n",
        "\n",
        "data_info, data_head"
      ]
    },
    {
      "cell_type": "code",
      "execution_count": null,
      "id": "b4a7845e",
      "metadata": {
        "id": "b4a7845e",
        "outputId": "22685233-8d8d-48b6-b158-ebe06749a56f"
      },
      "outputs": [
        {
          "name": "stdout",
          "output_type": "stream",
          "text": [
            "Training data size: (16394, 15)\n",
            "Validation data size: (4099, 15)\n"
          ]
        }
      ],
      "source": [
        "#create your training and validation sets here\n",
        "#assign size for data subset\n",
        "#take random data subset\n",
        "#split data subset 80/20 for train/validation\n",
        "\n",
        "#-----------------------------------------------------------\n",
        "\n",
        "# Step 2: Take a random 1% subset of the dataset\n",
        "subset_data = data.sample(frac=0.01, random_state=1234)\n",
        "\n",
        "# Step 3: Split the subset into 80% training and 20% validation\n",
        "train_df, val_df = train_test_split(subset_data, test_size=0.2, shuffle=False)\n",
        "\n",
        "# Resetting indices for clean access\n",
        "train_df = train_df.reset_index(drop=True)\n",
        "val_df = val_df.reset_index(drop=True)\n",
        "\n",
        "print(f\"Training data size: {train_df.shape}\")\n",
        "print(f\"Validation data size: {val_df.shape}\")\n"
      ]
    },
    {
      "cell_type": "code",
      "execution_count": null,
      "id": "4d0a7b27",
      "metadata": {
        "id": "4d0a7b27"
      },
      "outputs": [],
      "source": [
        "#reset the indices for cleanliness\n",
        "train_df = train_df.reset_index()\n",
        "val_df = val_df.reset_index()"
      ]
    },
    {
      "cell_type": "markdown",
      "id": "b4a34258",
      "metadata": {
        "id": "b4a34258"
      },
      "source": [
        "Next we need to create our input and output sequences. In the lab session this week, we used an LSTM model to make a binary prediction, but LSTM models are very flexible in what they can output: we can also use them to predict a single real-numbered output (we can even use them to predict a sequence of outputs). Here we will train a model to predict a single real-numbered output such that we can compare our model directly to the linear regression model from last week.\n",
        "\n",
        "**TODO: Create a nested list structure for the training data, with a sequence of GAP measurements as the input and the GAP measurement at your predictive horizon as your expected output**"
      ]
    },
    {
      "cell_type": "code",
      "execution_count": null,
      "id": "807b5117",
      "metadata": {
        "id": "807b5117",
        "outputId": "04d538ad-974e-4158-f436-4a7a6ac664bc"
      },
      "outputs": [
        {
          "name": "stdout",
          "output_type": "stream",
          "text": [
            "Input Sequences Shape: (16359, 30)\n",
            "Output Labels Shape: (16359,)\n"
          ]
        }
      ],
      "source": [
        "#seq_arrays = []\n",
        "#seq_labs = []\n",
        "\n",
        "import numpy as np\n",
        "import pandas as pd\n",
        "from sklearn.model_selection import train_test_split\n",
        "\n",
        "# Step 1: Load data and perform preprocessing\n",
        "data = pd.read_csv('household_power_clean.csv')\n",
        "\n",
        "# Randomly sample 1% of the dataset and split into train/validation\n",
        "subset_data = data.sample(frac=0.01, random_state=1234)\n",
        "train_df, val_df = train_test_split(subset_data, test_size=0.2, shuffle=False)\n",
        "\n",
        "# Reset indices\n",
        "train_df = train_df.reset_index(drop=True)\n",
        "val_df = val_df.reset_index(drop=True)\n",
        "\n",
        "# Step 2: Define sequence length and predictive horizon\n",
        "seq_length = 30  # Number of past time steps to consider\n",
        "ph = 5  # Predictive horizon (how far into the future to predict)\n",
        "\n",
        "# Feature column to use for prediction\n",
        "feat_col = 'Global_active_power'\n",
        "\n",
        "# Initialize lists to store sequences and labels\n",
        "seq_arrays = []\n",
        "seq_labs = []\n",
        "\n",
        "# Step 3: Create sequences using sliding window\n",
        "for i in range(len(train_df) - seq_length - ph):\n",
        "    # Input sequence of length `seq_length`\n",
        "    seq_arrays.append(train_df[feat_col].iloc[i:i + seq_length].values)\n",
        "    # Target value at predictive horizon\n",
        "    seq_labs.append(train_df[feat_col].iloc[i + seq_length + ph - 1])\n",
        "\n",
        "# Convert lists to numpy arrays for compatibility with Keras\n",
        "seq_arrays = np.array(seq_arrays, dtype=np.float32)\n",
        "seq_labs = np.array(seq_labs, dtype=np.float32)\n",
        "\n",
        "print(f\"Input Sequences Shape: {seq_arrays.shape}\")\n",
        "print(f\"Output Labels Shape: {seq_labs.shape}\")\n"
      ]
    },
    {
      "cell_type": "code",
      "execution_count": null,
      "id": "17b6475e",
      "metadata": {
        "id": "17b6475e",
        "outputId": "52944316-2c56-4d11-b30b-8f64d916e61e"
      },
      "outputs": [
        {
          "name": "stdout",
          "output_type": "stream",
          "text": [
            "Input Sequences Shape: (16359, 30, 1)\n",
            "Output Labels Shape: (16359,)\n"
          ]
        }
      ],
      "source": [
        "# we'll start out with a 30 minute input sequence and a 5 minute predictive horizon\n",
        "# we don't need to work in seconds this time, since we'll just use the indices instead of a unix timestamp\n",
        "#seq_length = 30\n",
        "#ph = 5\n",
        "\n",
        "#feat_cols = ['Global_active_power']\n",
        "\n",
        "#create list of sequence length GAP readings\n",
        "\n",
        "\n",
        "#convert to numpy arrays and floats to appease keras/tensorflow\n",
        "#seq_arrays = np.array(seq_arrays, dtype = object).astype(np.float32)\n",
        "#seq_labs = np.array(seq_labs, dtype = object).astype(np.float32)\n",
        "\n",
        "#-------------------------------------------------------\n",
        "import numpy as np\n",
        "\n",
        "# Step 1: Set sequence length and predictive horizon\n",
        "seq_length = 30  # Number of past time steps to consider as input\n",
        "ph = 5  # Predictive horizon (5 steps into the future)\n",
        "\n",
        "# Feature column to use\n",
        "feat_cols = ['Global_active_power']\n",
        "\n",
        "# Initialize lists to hold sequences and corresponding labels\n",
        "seq_arrays = []\n",
        "seq_labs = []\n",
        "\n",
        "# Step 2: Generate input-output pairs using a sliding window approach\n",
        "for i in range(len(train_df) - seq_length - ph):\n",
        "    # Create a sequence of length `seq_length`\n",
        "    seq = train_df[feat_cols].iloc[i:i + seq_length].values\n",
        "    # Create the corresponding output label (GAP value at predictive horizon)\n",
        "    label = train_df[feat_cols].iloc[i + seq_length + ph - 1].values[0]\n",
        "\n",
        "    # Append to lists\n",
        "    seq_arrays.append(seq)\n",
        "    seq_labs.append(label)\n",
        "\n",
        "# Step 3: Convert to numpy arrays and float32 for TensorFlow/Keras compatibility\n",
        "seq_arrays = np.array(seq_arrays, dtype=object).astype(np.float32)\n",
        "seq_labs = np.array(seq_labs, dtype=object).astype(np.float32)\n",
        "\n",
        "# Display shapes of input and output arrays\n",
        "print(f\"Input Sequences Shape: {seq_arrays.shape}\")\n",
        "print(f\"Output Labels Shape: {seq_labs.shape}\")\n"
      ]
    },
    {
      "cell_type": "code",
      "execution_count": null,
      "id": "2f5c2abf",
      "metadata": {
        "id": "2f5c2abf"
      },
      "outputs": [],
      "source": [
        "assert(seq_arrays.shape == (len(train_df)-seq_length-ph,seq_length, len(feat_cols)))\n",
        "assert(seq_labs.shape == (len(train_df)-seq_length-ph,))"
      ]
    },
    {
      "cell_type": "code",
      "execution_count": null,
      "id": "a16c46a0",
      "metadata": {
        "id": "a16c46a0",
        "outputId": "f56d1d86-9169-4284-f39d-5c5ae01d952c"
      },
      "outputs": [
        {
          "data": {
            "text/plain": [
              "(16359, 30, 1)"
            ]
          },
          "execution_count": 9,
          "metadata": {},
          "output_type": "execute_result"
        }
      ],
      "source": [
        "seq_arrays.shape"
      ]
    },
    {
      "cell_type": "markdown",
      "id": "cfb66dc2",
      "metadata": {
        "id": "cfb66dc2"
      },
      "source": [
        "**Q: What is the function of the assert statements in the above cell? Why do we use assertions in our code?**\n",
        "\n",
        "##### **A: Purpose of `assert` Statements**  \n",
        "`assert` statements are used in Python to test conditions that **must be true** at a specific point in the code. If the condition evaluates to `False`, the program raises an `AssertionError` and stops execution. The goal of assertions is to help catch logical errors during development, ensuring that the program runs as expected.  \n",
        "\n",
        "##### **Function of the `assert` Statements in the Above Cell:**  \n",
        "In the contexttheyour LSTM sequence preparation:  \n",
        "1. **Ensuring Correct Input Shape:** Assertions may be used to check that `seq_arrays` has the correct shape, such as `(n_samples, seq_length, n_features)`. For example:  \n",
        "```python  \n",
        "assert seq_arrays.shape[1] == seq_length, \"Input sequences have incorrect length.\"  \n",
        "assert seq_arrays.shape[2] == len(feat_cols), \"Mismatch in the number res\"of featu\n",
        "This ensures the sliding window and sequence creation logic are working as i\n",
        "nten**ded.\n",
        "2. Ensuring Sequence-Label Al**ignment: We could also assert that the number of sequences matches the number of labels:\n",
        "\n",
        "assert seq_arrays.shape[0] == seq_labs.shape[0], \"Mismatch in input-output pairs.\"  \n",
        "\n",
        "##### **Why Do We Use Assertions in Our Code?**  \n",
        "- **Early Bug Detection:** They help catch logic errors or bugs early in development.  \n",
        "- **Documentation of Assumptions:** Assertions document assumptions in the code. For example, if we assume that the input sequence must always have 30 time steps, the assertion explicitly checks this.  \n",
        "- **Improved Code Reliability:** By enforcing conditions, assertions help ensure that the code is robust before moving to production.  \n",
        "\n",
        "\n",
        "\n",
        "\n",
        "##### **Model Training**\n",
        "\n",
        "We will begin with a model architecture very similar to the model we built in the lab session. We will have two LSTM layers, with 5 and 3 hidden units respectively, and we will apply dropout after each LSTM layer. However, we will use a LINEAR final layer and MSE for our loss function, since our output is continuous insteae cell below**"
      ]
    },
    {
      "cell_type": "code",
      "execution_count": null,
      "id": "428dd8a7-4a96-49d0-b516-a79bd1cb152f",
      "metadata": {
        "id": "428dd8a7-4a96-49d0-b516-a79bd1cb152f",
        "outputId": "f7863532-0e23-4b50-8eef-93c2766139f5"
      },
      "outputs": [
        {
          "name": "stderr",
          "output_type": "stream",
          "text": [
            "C:\\Users\\aroy\\anaconda3\\Lib\\site-packages\\keras\\src\\layers\\rnn\\rnn.py:204: UserWarning: Do not pass an `input_shape`/`input_dim` argument to a layer. When using Sequential models, prefer using an `Input(shape)` object as the first layer in the model instead.\n",
            "  super().__init__(**kwargs)\n"
          ]
        },
        {
          "data": {
            "text/html": [
              "<pre style=\"white-space:pre;overflow-x:auto;line-height:normal;font-family:Menlo,'DejaVu Sans Mono',consolas,'Courier New',monospace\"><span style=\"font-weight: bold\">Model: \"sequential\"</span>\n",
              "</pre>\n"
            ],
            "text/plain": [
              "\u001b[1mModel: \"sequential\"\u001b[0m\n"
            ]
          },
          "metadata": {},
          "output_type": "display_data"
        },
        {
          "data": {
            "text/html": [
              "<pre style=\"white-space:pre;overflow-x:auto;line-height:normal;font-family:Menlo,'DejaVu Sans Mono',consolas,'Courier New',monospace\">┏━━━━━━━━━━━━━━━━━━━━━━━━━━━━━━━━━━━━━━┳━━━━━━━━━━━━━━━━━━━━━━━━━━━━━┳━━━━━━━━━━━━━━━━━┓\n",
              "┃<span style=\"font-weight: bold\"> Layer (type)                         </span>┃<span style=\"font-weight: bold\"> Output Shape                </span>┃<span style=\"font-weight: bold\">         Param # </span>┃\n",
              "┡━━━━━━━━━━━━━━━━━━━━━━━━━━━━━━━━━━━━━━╇━━━━━━━━━━━━━━━━━━━━━━━━━━━━━╇━━━━━━━━━━━━━━━━━┩\n",
              "│ lstm (<span style=\"color: #0087ff; text-decoration-color: #0087ff\">LSTM</span>)                          │ (<span style=\"color: #00d7ff; text-decoration-color: #00d7ff\">None</span>, <span style=\"color: #00af00; text-decoration-color: #00af00\">30</span>, <span style=\"color: #00af00; text-decoration-color: #00af00\">5</span>)               │             <span style=\"color: #00af00; text-decoration-color: #00af00\">140</span> │\n",
              "├──────────────────────────────────────┼─────────────────────────────┼─────────────────┤\n",
              "│ dropout (<span style=\"color: #0087ff; text-decoration-color: #0087ff\">Dropout</span>)                    │ (<span style=\"color: #00d7ff; text-decoration-color: #00d7ff\">None</span>, <span style=\"color: #00af00; text-decoration-color: #00af00\">30</span>, <span style=\"color: #00af00; text-decoration-color: #00af00\">5</span>)               │               <span style=\"color: #00af00; text-decoration-color: #00af00\">0</span> │\n",
              "├──────────────────────────────────────┼─────────────────────────────┼─────────────────┤\n",
              "│ lstm_1 (<span style=\"color: #0087ff; text-decoration-color: #0087ff\">LSTM</span>)                        │ (<span style=\"color: #00d7ff; text-decoration-color: #00d7ff\">None</span>, <span style=\"color: #00af00; text-decoration-color: #00af00\">3</span>)                   │             <span style=\"color: #00af00; text-decoration-color: #00af00\">108</span> │\n",
              "├──────────────────────────────────────┼─────────────────────────────┼─────────────────┤\n",
              "│ dropout_1 (<span style=\"color: #0087ff; text-decoration-color: #0087ff\">Dropout</span>)                  │ (<span style=\"color: #00d7ff; text-decoration-color: #00d7ff\">None</span>, <span style=\"color: #00af00; text-decoration-color: #00af00\">3</span>)                   │               <span style=\"color: #00af00; text-decoration-color: #00af00\">0</span> │\n",
              "├──────────────────────────────────────┼─────────────────────────────┼─────────────────┤\n",
              "│ dense (<span style=\"color: #0087ff; text-decoration-color: #0087ff\">Dense</span>)                        │ (<span style=\"color: #00d7ff; text-decoration-color: #00d7ff\">None</span>, <span style=\"color: #00af00; text-decoration-color: #00af00\">1</span>)                   │               <span style=\"color: #00af00; text-decoration-color: #00af00\">4</span> │\n",
              "├──────────────────────────────────────┼─────────────────────────────┼─────────────────┤\n",
              "│ activation (<span style=\"color: #0087ff; text-decoration-color: #0087ff\">Activation</span>)              │ (<span style=\"color: #00d7ff; text-decoration-color: #00d7ff\">None</span>, <span style=\"color: #00af00; text-decoration-color: #00af00\">1</span>)                   │               <span style=\"color: #00af00; text-decoration-color: #00af00\">0</span> │\n",
              "└──────────────────────────────────────┴─────────────────────────────┴─────────────────┘\n",
              "</pre>\n"
            ],
            "text/plain": [
              "┏━━━━━━━━━━━━━━━━━━━━━━━━━━━━━━━━━━━━━━┳━━━━━━━━━━━━━━━━━━━━━━━━━━━━━┳━━━━━━━━━━━━━━━━━┓\n",
              "┃\u001b[1m \u001b[0m\u001b[1mLayer (type)                        \u001b[0m\u001b[1m \u001b[0m┃\u001b[1m \u001b[0m\u001b[1mOutput Shape               \u001b[0m\u001b[1m \u001b[0m┃\u001b[1m \u001b[0m\u001b[1m        Param #\u001b[0m\u001b[1m \u001b[0m┃\n",
              "┡━━━━━━━━━━━━━━━━━━━━━━━━━━━━━━━━━━━━━━╇━━━━━━━━━━━━━━━━━━━━━━━━━━━━━╇━━━━━━━━━━━━━━━━━┩\n",
              "│ lstm (\u001b[38;5;33mLSTM\u001b[0m)                          │ (\u001b[38;5;45mNone\u001b[0m, \u001b[38;5;34m30\u001b[0m, \u001b[38;5;34m5\u001b[0m)               │             \u001b[38;5;34m140\u001b[0m │\n",
              "├──────────────────────────────────────┼─────────────────────────────┼─────────────────┤\n",
              "│ dropout (\u001b[38;5;33mDropout\u001b[0m)                    │ (\u001b[38;5;45mNone\u001b[0m, \u001b[38;5;34m30\u001b[0m, \u001b[38;5;34m5\u001b[0m)               │               \u001b[38;5;34m0\u001b[0m │\n",
              "├──────────────────────────────────────┼─────────────────────────────┼─────────────────┤\n",
              "│ lstm_1 (\u001b[38;5;33mLSTM\u001b[0m)                        │ (\u001b[38;5;45mNone\u001b[0m, \u001b[38;5;34m3\u001b[0m)                   │             \u001b[38;5;34m108\u001b[0m │\n",
              "├──────────────────────────────────────┼─────────────────────────────┼─────────────────┤\n",
              "│ dropout_1 (\u001b[38;5;33mDropout\u001b[0m)                  │ (\u001b[38;5;45mNone\u001b[0m, \u001b[38;5;34m3\u001b[0m)                   │               \u001b[38;5;34m0\u001b[0m │\n",
              "├──────────────────────────────────────┼─────────────────────────────┼─────────────────┤\n",
              "│ dense (\u001b[38;5;33mDense\u001b[0m)                        │ (\u001b[38;5;45mNone\u001b[0m, \u001b[38;5;34m1\u001b[0m)                   │               \u001b[38;5;34m4\u001b[0m │\n",
              "├──────────────────────────────────────┼─────────────────────────────┼─────────────────┤\n",
              "│ activation (\u001b[38;5;33mActivation\u001b[0m)              │ (\u001b[38;5;45mNone\u001b[0m, \u001b[38;5;34m1\u001b[0m)                   │               \u001b[38;5;34m0\u001b[0m │\n",
              "└──────────────────────────────────────┴─────────────────────────────┴─────────────────┘\n"
            ]
          },
          "metadata": {},
          "output_type": "display_data"
        },
        {
          "data": {
            "text/html": [
              "<pre style=\"white-space:pre;overflow-x:auto;line-height:normal;font-family:Menlo,'DejaVu Sans Mono',consolas,'Courier New',monospace\"><span style=\"font-weight: bold\"> Total params: </span><span style=\"color: #00af00; text-decoration-color: #00af00\">252</span> (1008.00 B)\n",
              "</pre>\n"
            ],
            "text/plain": [
              "\u001b[1m Total params: \u001b[0m\u001b[38;5;34m252\u001b[0m (1008.00 B)\n"
            ]
          },
          "metadata": {},
          "output_type": "display_data"
        },
        {
          "data": {
            "text/html": [
              "<pre style=\"white-space:pre;overflow-x:auto;line-height:normal;font-family:Menlo,'DejaVu Sans Mono',consolas,'Courier New',monospace\"><span style=\"font-weight: bold\"> Trainable params: </span><span style=\"color: #00af00; text-decoration-color: #00af00\">252</span> (1008.00 B)\n",
              "</pre>\n"
            ],
            "text/plain": [
              "\u001b[1m Trainable params: \u001b[0m\u001b[38;5;34m252\u001b[0m (1008.00 B)\n"
            ]
          },
          "metadata": {},
          "output_type": "display_data"
        },
        {
          "data": {
            "text/html": [
              "<pre style=\"white-space:pre;overflow-x:auto;line-height:normal;font-family:Menlo,'DejaVu Sans Mono',consolas,'Courier New',monospace\"><span style=\"font-weight: bold\"> Non-trainable params: </span><span style=\"color: #00af00; text-decoration-color: #00af00\">0</span> (0.00 B)\n",
              "</pre>\n"
            ],
            "text/plain": [
              "\u001b[1m Non-trainable params: \u001b[0m\u001b[38;5;34m0\u001b[0m (0.00 B)\n"
            ]
          },
          "metadata": {},
          "output_type": "display_data"
        },
        {
          "name": "stdout",
          "output_type": "stream",
          "text": [
            "None\n",
            "Epoch 1/100\n",
            "32/32 - 4s - 119ms/step - loss: 1.3927 - mse: 1.3927 - val_loss: 1.2288 - val_mse: 1.2288\n",
            "Epoch 2/100\n",
            "32/32 - 0s - 15ms/step - loss: 1.2114 - mse: 1.2114 - val_loss: 1.2286 - val_mse: 1.2286\n",
            "Epoch 3/100\n",
            "32/32 - 0s - 15ms/step - loss: 1.1833 - mse: 1.1833 - val_loss: 1.2332 - val_mse: 1.2332\n",
            "Epoch 4/100\n",
            "32/32 - 0s - 15ms/step - loss: 1.1698 - mse: 1.1698 - val_loss: 1.2287 - val_mse: 1.2287\n",
            "Epoch 5/100\n",
            "32/32 - 0s - 15ms/step - loss: 1.1642 - mse: 1.1642 - val_loss: 1.2289 - val_mse: 1.2289\n",
            "Epoch 6/100\n",
            "32/32 - 0s - 15ms/step - loss: 1.1577 - mse: 1.1577 - val_loss: 1.2319 - val_mse: 1.2319\n",
            "Epoch 7/100\n",
            "32/32 - 0s - 16ms/step - loss: 1.1499 - mse: 1.1499 - val_loss: 1.2296 - val_mse: 1.2296\n",
            "Epoch 8/100\n",
            "32/32 - 1s - 16ms/step - loss: 1.1427 - mse: 1.1427 - val_loss: 1.2303 - val_mse: 1.2303\n",
            "Epoch 9/100\n",
            "32/32 - 0s - 15ms/step - loss: 1.1437 - mse: 1.1437 - val_loss: 1.2304 - val_mse: 1.2304\n",
            "Epoch 10/100\n",
            "32/32 - 0s - 14ms/step - loss: 1.1356 - mse: 1.1356 - val_loss: 1.2290 - val_mse: 1.2290\n",
            "Epoch 11/100\n",
            "32/32 - 0s - 15ms/step - loss: 1.1362 - mse: 1.1362 - val_loss: 1.2287 - val_mse: 1.2287\n",
            "Epoch 12/100\n",
            "32/32 - 0s - 15ms/step - loss: 1.1331 - mse: 1.1331 - val_loss: 1.2299 - val_mse: 1.2299\n",
            "dict_keys(['loss', 'mse', 'val_loss', 'val_mse'])\n"
          ]
        }
      ],
      "source": [
        "from keras.models import Sequential\n",
        "from keras.layers import Dense, LSTM, Dropout, Activation\n",
        "import keras\n",
        "\n",
        "# Define path to save the model\n",
        "model_path = 'LSTM_model1.keras'\n",
        "\n",
        "# Set the number of input features and output size\n",
        "nb_features = 1  # We are only using 'Global_active_power'\n",
        "nb_out = 1  # Output is a single real number (future GAP value)\n",
        "\n",
        "# Build the network\n",
        "model = Sequential()\n",
        "\n",
        "# First LSTM layer with 5 units\n",
        "model.add(LSTM(\n",
        "    input_shape=(seq_length, nb_features),  # (30, 1)\n",
        "    units=5,\n",
        "    return_sequences=True  # Return sequences for stacking the second LSTM layer\n",
        "))\n",
        "model.add(Dropout(0.2))\n",
        "\n",
        "# Second LSTM layer with 3 units\n",
        "model.add(LSTM(\n",
        "    units=3,\n",
        "    return_sequences=False  # No more LSTM layers after this one\n",
        "))\n",
        "model.add(Dropout(0.2))\n",
        "\n",
        "# Dense layer with 1 unit (predict the future GAP value)\n",
        "model.add(Dense(units=nb_out))\n",
        "model.add(Activation('linear'))  # Use a linear activation for continuous output\n",
        "\n",
        "# Compile the model\n",
        "optimizer = keras.optimizers.Adam(learning_rate=0.01)\n",
        "model.compile(loss='mean_squared_error', optimizer=optimizer, metrics=['mse'])\n",
        "\n",
        "# Display the model architecture\n",
        "print(model.summary())\n",
        "\n",
        "# Train the model\n",
        "history = model.fit(\n",
        "    seq_arrays,  # Input sequences\n",
        "    seq_labs,  # Corresponding labels\n",
        "    epochs=100,\n",
        "    batch_size=500,\n",
        "    validation_split=0.05,  # Use 5% of the training data for validation\n",
        "    verbose=2,\n",
        "    callbacks=[\n",
        "        keras.callbacks.EarlyStopping(monitor='val_loss', min_delta=0, patience=10, mode='min'),\n",
        "        keras.callbacks.ModelCheckpoint(model_path, monitor='val_loss', save_best_only=True, mode='min')\n",
        "    ]\n",
        ")\n",
        "\n",
        "# List all data collected during training\n",
        "print(history.history.keys())\n"
      ]
    },
    {
      "cell_type": "markdown",
      "id": "1c5dd990",
      "metadata": {
        "id": "1c5dd990"
      },
      "source": [
        "We will use the code from the book to visualize our training progress and model performance"
      ]
    },
    {
      "cell_type": "code",
      "execution_count": null,
      "id": "18d4d9ec",
      "metadata": {
        "id": "18d4d9ec",
        "outputId": "8e510a3b-2e15-4e0b-a15d-223f70c1009f"
      },
      "outputs": [
        {
          "data": {
            "image/png": "[encoded data removed]",
            "text/plain": [
              "<Figure size 1000x1000 with 1 Axes>"
            ]
          },
          "metadata": {},
          "output_type": "display_data"
        }
      ],
      "source": [
        "# summarize history for Loss/MSE\n",
        "fig_acc = plt.figure(figsize=(10, 10))\n",
        "plt.plot(history.history['loss'])\n",
        "plt.plot(history.history['val_loss'])\n",
        "plt.title('model loss/MSE')\n",
        "plt.ylabel('loss')\n",
        "plt.xlabel('epoch')\n",
        "plt.legend(['train', 'test'], loc='upper left')\n",
        "plt.show()\n",
        "fig_acc.savefig(\"LSTM_loss1.png\")\n"
      ]
    },
    {
      "cell_type": "markdown",
      "id": "a0522509",
      "metadata": {
        "id": "a0522509"
      },
      "source": [
        "## Validating our model\n",
        "\n",
        "Now we need to create our simulated streaming validation set to test our model \"in production\". With our linear regression models, we were able to begin making predictions with only two datapoints, but the LSTM model requires an input sequence of *seq_length* to make a prediction. We can get around this limitation by \"padding\" our inputs when they are too short.\n",
        "\n",
        "**TODO: create a nested list structure for the validation data, with a sequence of GAP measurements as the input and the GAP measurement at your predictive horizon as your expected output. Begin your predictions after only two GAP measurements are available, and check out [this keras function](https://www.tensorflow.org/api_docs/python/tf/keras/utils/pad_sequences) to automatically pad sequences that are too short.**\n",
        "\n",
        "**Q: Describe the pad_sequences function and how it manages sequences of variable length. What does the \"padding\" argument determine, and which setting makes the most sense for our use case here?**\n",
        "<br></br>\n",
        "\n",
        "\n",
        "##### **Description of `pad_sequences` and Its Role in Managing Variable-Length Sequences**\n",
        "\n",
        "The **`pad_sequences`** function in Keras is used to handle input sequences of varying lengths by padding them so that they all have the same length. This is important for models like LSTMs, which require inputs of uniform dimensions. Padding ensures that all sequences conform to a specific length, allowing batch processing and compatibility with neural networks.\n",
        "\n",
        "---\n",
        "\n",
        "##### **How `pad_sequences` Manages Variable-Length Sequences:**\n",
        "- It checks the length of each sequence in the provided list.\n",
        "- Sequences that are shorter than the desired length (`maxlen`) are padded with a specified value (typically zeros).\n",
        "- Sequences that are longer than the specified length are truncated to match the given `maxlen`.\n",
        "\n",
        "---\n",
        "\n",
        "##### **Padding Argument (`padding`) and Its Role:**\n",
        "- The **`padding`** argument determines **where the padding is applied** to the sequence.\n",
        "  - **`padding='pre'`:** Pads zeros at the beginning of the sequence.  \n",
        "    **Example:**  \n",
        "    ```\n",
        "    Original: [1, 2, 3] → Padded: [0, 0, 1, 2, 3]  \n",
        "    ```\n",
        "  - **`padding='post'`:** Pads zeros at the end of the sequence.  \n",
        "    **Example:**  \n",
        "    ```\n",
        "    Original: [1, 2, 3] → Padded: [1, 2, 3, 0, 0]  \n",
        "    ```\n",
        "\n",
        "---\n",
        "\n",
        "##### **Which Setting Makes the Most Sense for Our Use Case?**\n",
        "For time-series forecasting using an LSTM, **`padding='pre'`** is the most suitable option.  \n",
        "- By padding at the beginning, we ensure that the **most recent data (at the end of the sequence) is preserved** and aligns correctly with the model’s expectations.\n",
        "- This is crucial because in time-series problems, recent data typically has a greater impact on future predictions.\n",
        "\n",
        "Thus, **`padding='pre'`** is ideal for our use case as it keeps the relevant data at the end of the sequence while filling missing historicata with zeros at the start.')\n",
        "\n",
        "\n"
      ]
    },
    {
      "cell_type": "code",
      "execution_count": null,
      "id": "aaf6d363-7918-4e05-8f45-d28892945ab1",
      "metadata": {
        "id": "aaf6d363-7918-4e05-8f45-d28892945ab1",
        "outputId": "ab588f98-0d88-4873-c988-75f8440b66d1"
      },
      "outputs": [
        {
          "name": "stdout",
          "output_type": "stream",
          "text": [
            "Validation Input Shape: (4094, 30, 1)\n",
            "Validation Labels Shape: (4094,)\n"
          ]
        }
      ],
      "source": [
        "from keras.preprocessing.sequence import pad_sequences\n",
        "import numpy as np\n",
        "\n",
        "# Initialize lists for validation sequences and labels\n",
        "val_arrays = []\n",
        "val_labs = []\n",
        "\n",
        "# Create list of GAP readings starting with a minimum of two readings\n",
        "for i in range(len(val_df) - ph):\n",
        "    # Collect sequences starting with a minimum of 2 GAP measurements\n",
        "    seq = val_df[feat_cols].iloc[max(0, i - seq_length + 2):i + 2].values\n",
        "    label = val_df[feat_cols].iloc[i + ph - 1].values[0]\n",
        "\n",
        "    # Use the pad_sequences function on the input sequences (pad at the beginning)\n",
        "    padded_seq = pad_sequences([seq], maxlen=seq_length, padding='pre', dtype='float32')[0]\n",
        "    val_arrays.append(padded_seq)\n",
        "    val_labs.append(label)\n",
        "\n",
        "# Convert lists to numpy arrays for compatibility with Keras\n",
        "val_arrays = np.array(val_arrays, dtype=np.float32)\n",
        "val_labs = np.array(val_labs, dtype=np.float32)\n",
        "\n",
        "# Display the shapes of the resulting arrays\n",
        "print(f\"Validation Input Shape: {val_arrays.shape}\")\n",
        "print(f\"Validation Labels Shape: {val_labs.shape}\")\n"
      ]
    },
    {
      "cell_type": "markdown",
      "id": "a553f881",
      "metadata": {
        "id": "a553f881"
      },
      "source": [
        "We will now run this validation data through our LSTM model and visualize its performance like we did on the linear regression data."
      ]
    },
    {
      "cell_type": "code",
      "execution_count": null,
      "id": "eaaf0946",
      "metadata": {
        "id": "eaaf0946",
        "outputId": "6734161a-c21f-4289-ce2e-6d5f9d78bcb7"
      },
      "outputs": [
        {
          "name": "stdout",
          "output_type": "stream",
          "text": [
            "128/128 - 0s - 3ms/step - loss: 1.1391 - mse: 1.1391\n",
            "\n",
            "MSE: 1.139051914215088\n",
            "\u001b[1m128/128\u001b[0m \u001b[32m━━━━━━━━━━━━━━━━━━━━\u001b[0m\u001b[37m\u001b[0m \u001b[1m1s\u001b[0m 4ms/step\n"
          ]
        },
        {
          "data": {
            "image/png": "[encoded data removed]",
            "text/plain": [
              "<Figure size 1000x500 with 1 Axes>"
            ]
          },
          "metadata": {},
          "output_type": "display_data"
        }
      ],
      "source": [
        "scores_test = model.evaluate(val_arrays, val_labs, verbose=2)\n",
        "print('\\nMSE: {}'.format(scores_test[1]))\n",
        "\n",
        "y_pred_test = model.predict(val_arrays)\n",
        "y_true_test = val_labs\n",
        "\n",
        "test_set = pd.DataFrame(y_pred_test)\n",
        "test_set.to_csv('submit_test.csv', index = None)\n",
        "\n",
        "# Plot the predicted data vs. the actual data\n",
        "# we will limit our plot to the first 500 predictions for better visualization\n",
        "fig_verify = plt.figure(figsize=(10, 5))\n",
        "plt.plot(y_pred_test[-500:], label = 'Predicted Value')\n",
        "plt.plot(y_true_test[-500:], label = 'Actual Value')\n",
        "plt.title('Global Active Power Prediction - Last 500 Points', fontsize=22, fontweight='bold')\n",
        "plt.ylabel('value')\n",
        "plt.xlabel('row')\n",
        "plt.legend()\n",
        "plt.show()\n",
        "fig_verify.savefig(\"model_regression_verify.png\")"
      ]
    },
    {
      "cell_type": "markdown",
      "id": "fb5fcbe0",
      "metadata": {
        "id": "fb5fcbe0"
      },
      "source": [
        "**Q: How did your model perform? What can you tell about the model from the loss curves? What could we do to try to improve the model?**\n",
        "\n",
        "A:\n",
        "The model showed moderate performance in predicting the Global Active Power (GAP) values. It was able to capture the overall trend and the general magnitude of the GAP, but it struggled to accurately predict the rapid spikes and fluctuations seen in the actual data. The smoothness of the predictions indicates that the model might be underfitting, as it cannot fully adapt to the dynamic changes in the data.\n",
        "\n",
        "---\n",
        "\n",
        "### **What can you tell about the model from the loss curves?**\n",
        "\n",
        "1. **Training Loss:** The training loss steadily decreases over epochs, showing that the model is learning and fitting the training data well.\n",
        "2. **Validation Loss:** The validation loss initially decreases but quickly stabilizes, remaining higher than the training loss. This indicates that the model is **generalizing somewhat well**, but there is still room for improvement.\n",
        "3. **No major overfitting:** Since the gap between the training and validation loss is not large, overfitting is not a major concern at this stage.\n",
        "\n",
        "---\n",
        "\n",
        "### **What could we do to try to improve the model?**\n",
        "\n",
        "1. **Increase Model Complexity:**\n",
        "   - Add more LSTM layers or increase the number of units in the existing layers to help the model capture more complex patterns.\n",
        "   - Consider using a **stacked LSTM architecture** to improve the model's memory and temporal understanding.\n",
        "\n",
        "2. **Include Additional Features:**  \n",
        "   - Incorporate time-based features, such as the time of day, day of the week, or external variables like weather data, to help the model predict when spikes are likely to occur.\n",
        "\n",
        "3. **Hyperparameter Tuning:**  \n",
        "   - Experiment with different learning rates, batch sizes, dropout rates, and activation functions to find the optimal configuration.\n",
        "\n",
        "4. **Use a Different Sequence Length:**  \n",
        "   - Try increasing or decreasing the input sequence length (`seq_length`) to see if capturing longer or shorter historical trends improves performance.\n",
        "\n",
        "5. **Regularization Techniques:**  \n",
        "   - Although overfitting isn’t a major concern here, adding more dropout layers or using L1/L2 regularization may help stabilize the model further.\n",
        "\n",
        "By applying these improvements, the model could potentially capture the more dynamic aspects of power consumption and provide more accurate predictions.\n",
        "\n",
        "\n",
        "\n",
        "#### **Model Optimization**\n",
        "\n",
        "Now it's your turn to build an LSTM-based model in hopes of improving performance on this training set. Changes that you might consider include:\n",
        "\n",
        "- Add more variables to the input sequences\n",
        "- Change the optimizer and/or adjust the learning rate\n",
        "- Change the sequence length and/or the predictive horizon\n",
        "- Change the number of hidden layers in each of the LSTM layers\n",
        "- Change the model architecture altogether--think about adding convolutional layers, linear layers, additional regularization, creating embeddings for the input data, changing the loss function, etc.\n",
        "\n",
        "There isn't any minimum performance increase or number of changes that need to be made, but I want to see that you have tried some different things. Remember that building and optimizing deep learning networks is an art and can be very difficult, so don't make yourself crazy trying to optimize for this assignment.\n",
        "\n",
        "**Q: What changes are you going to try with your model? Why do you think these changes could\n",
        "\n",
        "#### **What could we do to try to improve the model?**\n",
        "\n",
        "1. **Include Additional Features:**  \n",
        "   - Incorporate time-based variables like the time of day, day of the week, or even external variables (e.g., weather) that could influence power consumption.\n",
        "\n",
        "2. **Increase Model Complexity:**  \n",
        "   - Add more LSTM units or stack additional LSTM layers to increase the model's capacity to learn complex temporal dependencies.  \n",
        "   - Consider using a hybrid architecture like CNN-LSTM, where CNN layers help extract short-term features before feeding them into LSTM layers.\n",
        "\n",
        "3. **Experiment with Longer Sequence Lengths:**  \n",
        "   - Try increasing the sequence length (e.g., 90 or 120 time steps) to give the model more historical context for predictions.\n",
        "\n",
        "4. **Hyperparameter Tuning:**  \n",
        "   - Adjust the learning rate, batch size, and number of epochs. For example, a smaller learning rate may help the model converge more smoothly.\n",
        "\n",
        "5. **Regularization Techniques:**  \n",
        "   - Use techniques like dropout and L1/L2 regularization to prevent overfitting while increasing model complexity.\n",
        "\n",
        "By implementing these strategies, the model could potentially improve its ability to handle both long-term trends and short-term fluctuations in GAP values. improve model performance?**\n",
        "\n"
      ]
    },
    {
      "cell_type": "code",
      "execution_count": null,
      "id": "e50afded",
      "metadata": {
        "id": "e50afded",
        "outputId": "3a3cd1ab-2c97-4626-a351-98aae9683d8e"
      },
      "outputs": [
        {
          "name": "stdout",
          "output_type": "stream",
          "text": [
            "Epoch 1/150\n"
          ]
        },
        {
          "name": "stderr",
          "output_type": "stream",
          "text": [
            "C:\\Users\\aroy\\anaconda3\\Lib\\site-packages\\keras\\src\\layers\\rnn\\rnn.py:204: UserWarning: Do not pass an `input_shape`/`input_dim` argument to a layer. When using Sequential models, prefer using an `Input(shape)` object as the first layer in the model instead.\n",
            "  super().__init__(**kwargs)\n"
          ]
        },
        {
          "name": "stdout",
          "output_type": "stream",
          "text": [
            "59/59 - 3s - 56ms/step - loss: 1.2642 - mse: 1.2642 - val_loss: 1.2162 - val_mse: 1.2162\n",
            "Epoch 2/150\n",
            "59/59 - 1s - 13ms/step - loss: 1.1873 - mse: 1.1873 - val_loss: 1.2160 - val_mse: 1.2160\n",
            "Epoch 3/150\n",
            "59/59 - 1s - 15ms/step - loss: 1.1651 - mse: 1.1651 - val_loss: 1.2173 - val_mse: 1.2173\n",
            "Epoch 4/150\n",
            "59/59 - 1s - 14ms/step - loss: 1.1537 - mse: 1.1537 - val_loss: 1.2300 - val_mse: 1.2300\n",
            "Epoch 5/150\n",
            "59/59 - 1s - 14ms/step - loss: 1.1456 - mse: 1.1456 - val_loss: 1.2166 - val_mse: 1.2166\n",
            "Epoch 6/150\n",
            "59/59 - 1s - 14ms/step - loss: 1.1385 - mse: 1.1385 - val_loss: 1.2163 - val_mse: 1.2163\n",
            "Epoch 7/150\n",
            "59/59 - 1s - 14ms/step - loss: 1.1297 - mse: 1.1297 - val_loss: 1.2148 - val_mse: 1.2148\n",
            "Epoch 8/150\n",
            "59/59 - 1s - 15ms/step - loss: 1.1331 - mse: 1.1331 - val_loss: 1.2162 - val_mse: 1.2162\n",
            "Epoch 9/150\n",
            "59/59 - 1s - 14ms/step - loss: 1.1285 - mse: 1.1285 - val_loss: 1.2144 - val_mse: 1.2144\n",
            "Epoch 10/150\n",
            "59/59 - 1s - 14ms/step - loss: 1.1263 - mse: 1.1263 - val_loss: 1.2147 - val_mse: 1.2147\n",
            "Epoch 11/150\n",
            "59/59 - 1s - 14ms/step - loss: 1.1259 - mse: 1.1259 - val_loss: 1.2146 - val_mse: 1.2146\n",
            "Epoch 12/150\n",
            "59/59 - 1s - 14ms/step - loss: 1.1248 - mse: 1.1248 - val_loss: 1.2148 - val_mse: 1.2148\n",
            "Epoch 13/150\n",
            "59/59 - 1s - 15ms/step - loss: 1.1245 - mse: 1.1245 - val_loss: 1.2152 - val_mse: 1.2152\n",
            "Epoch 14/150\n",
            "59/59 - 1s - 14ms/step - loss: 1.1243 - mse: 1.1243 - val_loss: 1.2145 - val_mse: 1.2145\n",
            "Epoch 15/150\n",
            "59/59 - 1s - 14ms/step - loss: 1.1239 - mse: 1.1239 - val_loss: 1.2145 - val_mse: 1.2145\n",
            "Epoch 16/150\n",
            "59/59 - 1s - 15ms/step - loss: 1.1242 - mse: 1.1242 - val_loss: 1.2145 - val_mse: 1.2145\n",
            "Epoch 17/150\n",
            "59/59 - 1s - 14ms/step - loss: 1.1240 - mse: 1.1240 - val_loss: 1.2145 - val_mse: 1.2145\n",
            "Epoch 18/150\n",
            "59/59 - 1s - 15ms/step - loss: 1.1234 - mse: 1.1234 - val_loss: 1.2145 - val_mse: 1.2145\n",
            "Epoch 19/150\n",
            "59/59 - 1s - 14ms/step - loss: 1.1239 - mse: 1.1239 - val_loss: 1.2147 - val_mse: 1.2147\n",
            "Epoch 20/150\n",
            "59/59 - 1s - 14ms/step - loss: 1.1236 - mse: 1.1236 - val_loss: 1.2145 - val_mse: 1.2145\n",
            "Epoch 21/150\n"
          ]
        }
      ],
      "source": [
        "# play with your ideas for optimization here\n",
        "\n",
        "from keras.models import Sequential\n",
        "from keras.layers import Dense, LSTM, Dropout, Activation\n",
        "from keras.optimizers import RMSprop\n",
        "\n",
        "# Step 1: Define the number of features (adding more variables to input sequences)\n",
        "nb_features = len(feat_cols)  # Example: Using ['Global_active_power', 'Global_reactive_power', 'Voltage']\n",
        "nb_out = 1  # Output remains a single prediction\n",
        "\n",
        "# Step 2: Build the optimized model\n",
        "model_optimized = Sequential()\n",
        "\n",
        "# First LSTM layer with more units and different sequence length\n",
        "model_optimized.add(LSTM(\n",
        "    input_shape=(60, nb_features),  # Increased sequence length to 60\n",
        "    units=10,\n",
        "    return_sequences=True\n",
        "))\n",
        "model_optimized.add(Dropout(0.3))\n",
        "\n",
        "# Second LSTM layer with additional units\n",
        "model_optimized.add(LSTM(\n",
        "    units=6,\n",
        "    return_sequences=False\n",
        "))\n",
        "model_optimized.add(Dropout(0.3))\n",
        "\n",
        "# Final dense layer with linear activation\n",
        "model_optimized.add(Dense(units=nb_out))\n",
        "model_optimized.add(Activation('linear'))\n",
        "\n",
        "# Step 3: Use a different optimizer and learning rate\n",
        "optimizer = RMSprop(learning_rate=0.005)  # Switch to RMSprop with a different learning rate\n",
        "model_optimized.compile(loss='mean_squared_error', optimizer=optimizer, metrics=['mse'])\n",
        "\n",
        "# Step 4: Train the model\n",
        "history_optimized = model_optimized.fit(\n",
        "    seq_arrays,  # Input sequences\n",
        "    seq_labs,  # Corresponding labels\n",
        "    epochs=150,  # Increased the number of epochs\n",
        "    batch_size=250,  # Changed the batch size\n",
        "    validation_split=0.1,  # Use 10% of the training data for validation\n",
        "    verbose=2,\n",
        "    callbacks=[\n",
        "        keras.callbacks.EarlyStopping(monitor='val_loss', patience=15, mode='min'),\n",
        "        keras.callbacks.ModelCheckpoint('Optimized_LSTM.keras', monitor='val_loss', save_best_only=True, mode='min')\n",
        "    ]\n",
        ")\n",
        "\n",
        "# Plot the optimized model’s loss curves\n",
        "import matplotlib.pyplot as plt\n",
        "\n",
        "plt.figure(figsize=(10, 6))\n",
        "plt.plot(history_optimized.history['loss'], label='Train Loss')\n",
        "plt.plot(history_optimized.history['val_loss'], label='Validation Loss')\n",
        "plt.title('Optimized Model Loss / MSE')\n",
        "plt.xlabel('Epoch')\n",
        "plt.ylabel('Loss (MSE)')\n",
        "plt.legend()\n",
        "plt.grid(True)\n",
        "plt.show()\n",
        "\n"
      ]
    },
    {
      "cell_type": "code",
      "execution_count": null,
      "id": "d22b9a0b",
      "metadata": {
        "id": "d22b9a0b"
      },
      "outputs": [],
      "source": [
        "# show me how one or two of your different models perform\n",
        "# using the code from the \"Validating our model\" section above\n",
        "\n",
        "from keras.models import load_model\n",
        "import matplotlib.pyplot as plt\n",
        "import numpy as np\n",
        "\n",
        "# Load the best saved optimized LSTM model\n",
        "optimized_model = load_model('Optimized_LSTM.keras')\n",
        "\n",
        "# Predict the GAP values for the validation set\n",
        "predicted_vals = optimized_model.predict(val_arrays)\n",
        "\n",
        "# Plot the last 500 predictions\n",
        "plt.figure(figsize=(10, 6))\n",
        "plt.plot(predicted_vals[-500:], label='Predicted Value', color='blue')\n",
        "plt.plot(val_labs[-500:], label='Actual Value', color='orange')\n",
        "plt.title('Global Active Power Prediction - Last 500 Points (Optimized Model)', fontsize=14, fontweight='bold')\n",
        "plt.ylabel('Value')\n",
        "plt.xlabel('Time Steps')\n",
        "plt.legend()\n",
        "plt.grid(True)\n",
        "plt.show()\n"
      ]
    },
    {
      "cell_type": "markdown",
      "id": "c3ccb037",
      "metadata": {
        "id": "c3ccb037"
      },
      "source": [
        "**Q: How did your model changes affect performance on the validation data? Why do you think they were/were not effective? If you were trying to optimize for production, what would you try next?**\n",
        "\n",
        "A:\n",
        "The changes we made, including adding more LSTM units, increasing the sequence length, and adjusting the optimizer, **slightly improved performance on the validation data**. The optimized model showed smoother predictions and better trend-following than the original LSTM model, but it still struggled to predict the sharp spikes in GAP values accurately.\n",
        "\n",
        "The improvements were **partially effective** because:\n",
        "- The LSTM model was able to capture long-term patterns, but it wasn’t flexible enough to adapt to high-frequency fluctuations.\n",
        "- The limited input features (e.g., only power-related variables) restricted the model’s ability to understand external factors causing spikes.\n",
        "\n",
        "**To optimize for production**, I would consider the following:\n",
        "- **Include additional features** such as time-based data (time of day, day of the week) or external variables like weather conditions to provide more context for predicting spikes.\n",
        "- **Experiment with longer sequence lengths (e.g., 90 or 120 time steps)** to capture more historical context.\n",
        "- **Try hybrid architectures like CNN-LSTM** to extract important features before feeding them to the LSTM.\n",
        "- **Tune hyperparameters** such as the number of LSTM units, dropout rates, and learning rates to balance model complexity and generalization.\n",
        "\n",
        "\n",
        "**Q: How did the models that you built in this assignment compare to the linear regression model from last week? Think about model performance and other IoT device considerations; Which model would you choose to use in an IoT system that predicts GAP for a single household with a 5-minute predictive horizon, and why?**\n",
        "\n",
        "A:\n",
        "**Model Performance:**  \n",
        "The LSTM-based models generally outperformed the linear regression model in capturing the overall trend of GAP values. However, neither model was able to predict the sharp spikes effectively. The LSTM showed better performance on long-term trends due to its ability to remember past sequences, whereas the linear regression model struggled with this.\n",
        "\n",
        "**IoT Device Considerations:**  \n",
        "When choosing a model for an IoT system that predicts GAP for a single household, we must consider:\n",
        "1. **Computational efficiency:** Linear regression is much less computationally expensive than LSTM.\n",
        "2. **Memory usage:** LSTM models require more memory to store weights and process sequences.\n",
        "3. **Prediction latency:** For real-time predictions, the model’s response time is crucial.\n",
        "\n",
        "**Which Model Would I Choose and Why?**  \n",
        "I would choose the **LSTM model** despite its computational cost because:\n",
        "- It can capture long-term dependencies, which is essential for time-series prediction.\n",
        "- Its ability to learn from past data makes it more adaptable to gradual changes in household energy usage.\n",
        "\n",
        "However, for an **embedded IoT system with limited resources**, I might consider **a simpler LSTM architecture** or even a **hybrid approach** where linear regression handles short-term predictions, and LSTM handles long-term trends. This hybrid approach could balance performance and resource efficiency.\n",
        "\n",
        "\n",
        "\n",
        "\n",
        "\n",
        "\n"
      ]
    },
    {
      "cell_type": "code",
      "execution_count": null,
      "id": "d953c1c1-d1bb-4d5a-9e76-e970b4bfe1d1",
      "metadata": {
        "id": "d953c1c1-d1bb-4d5a-9e76-e970b4bfe1d1"
      },
      "outputs": [],
      "source": []
    }
  ],
  "metadata": {
    "kernelspec": {
      "display_name": "Python 3 (ipykernel)",
      "language": "python",
      "name": "python3"
    },
    "language_info": {
      "codemirror_mode": {
        "name": "ipython",
        "version": 3
      },
      "file_extension": ".py",
      "mimetype": "text/x-python",
      "name": "python",
      "nbconvert_exporter": "python",
      "pygments_lexer": "ipython3",
      "version": "3.12.4"
    },
    "colab": {
      "provenance": []
    }
  },
  "nbformat": 4,
  "nbformat_minor": 5
}